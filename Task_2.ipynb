{
 "cells": [
  {
   "cell_type": "code",
   "execution_count": 1,
   "metadata": {},
   "outputs": [],
   "source": [
    "import numpy as np\n",
    "import scipy as sp\n",
    "import matplotlib.pyplot as plt\n",
    "import seaborn as sns\n",
    "\n",
    "%matplotlib inline"
   ]
  },
  {
   "cell_type": "markdown",
   "metadata": {},
   "source": [
    "# 1. Работа с массивами NumPy"
   ]
  },
  {
   "cell_type": "markdown",
   "metadata": {},
   "source": [
    "**N. Все упражнения ниже нужно делать без использования циклов Python**\n",
    "\n",
    "**1.** Cоздать вектор\n",
    "\n",
    "$$(2, \\frac{2^2}{2}, \\ldots, \\frac{2^{20}}{20})$$\n",
    "\n",
    "Можно использовать функции [np.arange()](http://docs.scipy.org/doc/numpy/reference/generated/numpy.arange.html), [np.ones()](http://docs.scipy.org/doc/numpy/reference/generated/numpy.ones.html)"
   ]
  },
  {
   "cell_type": "code",
   "execution_count": 2,
   "metadata": {},
   "outputs": [
    {
     "name": "stdout",
     "output_type": "stream",
     "text": [
      "[  2.00000000e+00   2.00000000e+00   2.66666667e+00   4.00000000e+00\n",
      "   6.40000000e+00   1.06666667e+01   1.82857143e+01   3.20000000e+01\n",
      "   5.68888889e+01   1.02400000e+02   1.86181818e+02   3.41333333e+02\n",
      "   6.30153846e+02   1.17028571e+03   2.18453333e+03   4.09600000e+03\n",
      "   7.71011765e+03   1.45635556e+04   2.75941053e+04   5.24288000e+04]\n"
     ]
    }
   ],
   "source": [
    "vec = (2 * np.ones(20)) ** np.arange(1, 21) / np.arange(1, 21)\n",
    "print(vec)"
   ]
  },
  {
   "cell_type": "markdown",
   "metadata": {},
   "source": [
    "**2.** Посчитать:\n",
    "\n",
    "$$\\sum\\limits_{i=0}^{5}{0.1^{3i}0.2^{4i}}$$\n"
   ]
  },
  {
   "cell_type": "code",
   "execution_count": 3,
   "metadata": {},
   "outputs": [
    {
     "name": "stdout",
     "output_type": "stream",
     "text": [
      "1.0000016\n"
     ]
    }
   ],
   "source": [
    "s = np.sum(np.fromfunction(lambda i: 0.1 ** (3 * i) * 0.2 ** (4 * i), (6, )))\n",
    "print(s)"
   ]
  },
  {
   "cell_type": "markdown",
   "metadata": {},
   "source": [
    "**3.** Создать нулевую матрицe $8 \\times 8$, и заполнить её единицами в шахматном порядке."
   ]
  },
  {
   "cell_type": "code",
   "execution_count": 4,
   "metadata": {},
   "outputs": [
    {
     "name": "stdout",
     "output_type": "stream",
     "text": [
      "[[ 0.  1.  0.  1.  0.  1.  0.  1.]\n",
      " [ 1.  0.  1.  0.  1.  0.  1.  0.]\n",
      " [ 0.  1.  0.  1.  0.  1.  0.  1.]\n",
      " [ 1.  0.  1.  0.  1.  0.  1.  0.]\n",
      " [ 0.  1.  0.  1.  0.  1.  0.  1.]\n",
      " [ 1.  0.  1.  0.  1.  0.  1.  0.]\n",
      " [ 0.  1.  0.  1.  0.  1.  0.  1.]\n",
      " [ 1.  0.  1.  0.  1.  0.  1.  0.]]\n"
     ]
    }
   ],
   "source": [
    "mat = np.zeros((8, 8))\n",
    "mat[1::2, ::2] = 1\n",
    "mat[::2, 1::2] = 1\n",
    "print(mat)"
   ]
  },
  {
   "cell_type": "markdown",
   "metadata": {},
   "source": [
    "**4.** Есть 5 точек в декартовой системе координат (в виде матрицы $X$ размерностью $5 \\times 2$), сконвертируйте эти точки в полярную систему координат."
   ]
  },
  {
   "cell_type": "code",
   "execution_count": 5,
   "metadata": {},
   "outputs": [
    {
     "name": "stdout",
     "output_type": "stream",
     "text": [
      "[ 1.0782637   0.45989518  0.63532316  0.78932085  0.32571706] [ 0.42684345  1.5426385   0.46840834  1.25660091  0.09791533]\n"
     ]
    }
   ],
   "source": [
    "X = np.random.random((5, 2))\n",
    "x, y = X[:, 0], X[:, 1]\n",
    "r = np.sqrt(x ** 2 + y ** 2)\n",
    "phi = np.arctan2(y, x)\n",
    "print(r, phi)"
   ]
  },
  {
   "cell_type": "markdown",
   "metadata": {},
   "source": [
    "**5.** Найдите индексы максимального элемента в случайной матрице $10 \\times 10$.\n",
    "\n",
    "Cм. [np.argmax()](http://docs.scipy.org/doc/numpy/reference/generated/numpy.argmax.html)."
   ]
  },
  {
   "cell_type": "code",
   "execution_count": 6,
   "metadata": {},
   "outputs": [
    {
     "data": {
      "text/plain": [
       "(1, 7)"
      ]
     },
     "execution_count": 6,
     "metadata": {},
     "output_type": "execute_result"
    }
   ],
   "source": [
    "X = np.random.random((10, 10))\n",
    "ind = np.unravel_index(np.argmax(X, axis=None), X.shape)\n",
    "ind"
   ]
  },
  {
   "cell_type": "markdown",
   "metadata": {},
   "source": [
    "**6.** Есть 10 точек ($X$) и ещё одна ($y$). Найти в $X$ ближайшую к $y$ точку."
   ]
  },
  {
   "cell_type": "code",
   "execution_count": 7,
   "metadata": {},
   "outputs": [
    {
     "name": "stdout",
     "output_type": "stream",
     "text": [
      "0.0899311408662\n"
     ]
    }
   ],
   "source": [
    "X = np.random.random((10, 2))\n",
    "y = np.random.random((1, 2))\n",
    "x1, x2 = X[:, 0], X[:, 1]\n",
    "y1, y2 = y[:, 0][0], y[:, 1][0]\n",
    "m = np.amin(np.sqrt((x1 - y1) ** 2 + (x2 - y2) ** 2))\n",
    "print(m)"
   ]
  },
  {
   "cell_type": "markdown",
   "metadata": {},
   "source": [
    "**7.** Дана функция:\n",
    "\n",
    "$$\n",
    " \\begin{cases}\n",
    "    x^2 + 2x + 6, & x < 0  \\\\\n",
    "    x + 6, & 0 \\le x \\le 2 \\\\\n",
    "    x^2 + 4x - 4, & x \\ge 2\n",
    " \\end{cases}\n",
    "$$\n",
    "\n",
    "Постройте массив из её значений на  $-3 \\le x \\le 3$."
   ]
  },
  {
   "cell_type": "code",
   "execution_count": 8,
   "metadata": {},
   "outputs": [
    {
     "name": "stdout",
     "output_type": "stream",
     "text": [
      "[  9.           8.52519783   8.08038317   7.66555602   7.28071637\n",
      "   6.92586422   6.60099958   6.30612245   6.04123282   5.8063307\n",
      "   5.60141608   5.42648896   5.28154935   5.16659725   5.08163265\n",
      "   5.02665556   5.00166597   5.00666389   5.04164931   5.10662224\n",
      "   5.20158267   5.32653061   5.48146606   5.666389     5.88129946\n",
      "   6.06122449   6.18367347   6.30612245   6.42857143   6.55102041\n",
      "   6.67346939   6.79591837   6.91836735   7.04081633   7.16326531\n",
      "   7.28571429   7.40816327   7.53061224   7.65306122   7.7755102\n",
      "   7.89795918   8.1636818    9.16326531  10.19283632  11.25239484\n",
      "  12.34194086  13.46147439  14.61099542  15.79050396  17.        ]\n"
     ]
    }
   ],
   "source": [
    "def f(x):\n",
    "    if x < 0:\n",
    "        return x ** 2 + 2 * x + 6\n",
    "    elif 0 <= x <= 2:\n",
    "        return x + 6\n",
    "    elif x >= 2:\n",
    "        return x ** 2 + 4 * x - 4\n",
    "\n",
    "vec_f = np.vectorize(f)\n",
    "res = vec_f(np.linspace(-3, 3))\n",
    "print(res)"
   ]
  },
  {
   "cell_type": "markdown",
   "metadata": {},
   "source": [
    "**8.** Из каждого элемента матрицы вычесть среднее арифметическое от всех элементов в соответствующей строке (после чего среднее значение каждой строки должно равняться нулю).\n",
    "\n",
    "Cм. [np.mean()](http://docs.scipy.org/doc/numpy/reference/generated/numpy.mean.html)."
   ]
  },
  {
   "cell_type": "code",
   "execution_count": 9,
   "metadata": {},
   "outputs": [
    {
     "data": {
      "text/plain": [
       "array([[ -1.38621483e-01,  -1.82282872e-01,   1.33932462e-01,\n",
       "          3.29822835e-01,   2.85125616e-01,   1.45511191e-01,\n",
       "         -2.29698251e-01,  -2.73246135e-01,   3.02090038e-01,\n",
       "         -3.72633401e-01],\n",
       "       [ -4.70077877e-02,   1.26509728e-01,   1.78906044e-01,\n",
       "         -2.72376629e-01,  -2.53608209e-01,  -2.14553370e-01,\n",
       "         -2.81301488e-01,   7.72821296e-02,   3.00769867e-01,\n",
       "          3.85379715e-01],\n",
       "       [ -2.67993886e-01,   2.46302679e-01,   1.93855659e-01,\n",
       "          3.31612746e-01,   4.12014497e-01,  -3.44996216e-01,\n",
       "          4.24908652e-01,  -3.81706306e-01,  -3.87403325e-01,\n",
       "         -2.26594498e-01],\n",
       "       [ -2.79888646e-01,  -3.39659415e-01,   5.33561904e-01,\n",
       "         -7.73931224e-02,   4.79376354e-01,   4.04431752e-01,\n",
       "         -3.33213703e-01,  -1.21670269e-01,  -1.94755283e-01,\n",
       "         -7.07895727e-02],\n",
       "       [ -3.01824775e-01,  -3.79263305e-01,   3.82948299e-01,\n",
       "         -3.14494207e-02,  -1.61612706e-01,   4.06327976e-01,\n",
       "         -4.39602737e-01,  -1.65110878e-01,   2.46840390e-01,\n",
       "          4.42747157e-01],\n",
       "       [ -9.66683481e-02,  -2.43865864e-01,   8.35542503e-02,\n",
       "         -1.70289363e-01,  -6.29367142e-02,   4.88697759e-03,\n",
       "          2.62620454e-02,   4.51862590e-01,   2.92950009e-01,\n",
       "         -2.85755583e-01],\n",
       "       [  3.89831811e-01,   1.13870131e-01,  -2.94324298e-01,\n",
       "          7.48255424e-02,  -3.77684338e-02,  -1.63821859e-01,\n",
       "         -4.65651588e-01,   4.31022822e-01,   1.15683965e-01,\n",
       "         -1.63668092e-01],\n",
       "       [ -1.29334438e-01,   2.92049990e-01,   4.14480976e-01,\n",
       "         -3.73396332e-01,   2.47646206e-01,   1.09566473e-01,\n",
       "         -4.44772909e-01,  -5.28636239e-01,   2.42181430e-01,\n",
       "          1.70214842e-01],\n",
       "       [ -1.82542370e-01,  -2.54762284e-01,   5.21635596e-01,\n",
       "          2.61509261e-01,  -1.35453306e-01,  -2.40498120e-01,\n",
       "         -1.02687838e-01,  -3.15290707e-01,   5.43080715e-01,\n",
       "         -9.49909470e-02],\n",
       "       [ -1.64589051e-01,   7.20087387e-02,  -3.46445834e-05,\n",
       "         -5.93834636e-02,   7.87337677e-02,   2.68373827e-01,\n",
       "         -2.91684764e-01,   5.30480566e-01,  -7.06541546e-02,\n",
       "         -3.63250821e-01]])"
      ]
     },
     "execution_count": 9,
     "metadata": {},
     "output_type": "execute_result"
    }
   ],
   "source": [
    "X = np.random.random((10, 10))\n",
    "X - np.mean(X, axis=1, keepdims=True)"
   ]
  },
  {
   "cell_type": "markdown",
   "metadata": {},
   "source": [
    "**9.** Есть массив из 1000 чисел, полученных из генератора случайных чисел, имеющий нормальное распределение. Посчитайте выборочное среднее и выборочную дисперсию. "
   ]
  },
  {
   "cell_type": "code",
   "execution_count": 10,
   "metadata": {},
   "outputs": [
    {
     "name": "stdout",
     "output_type": "stream",
     "text": [
      "5.09812595679 3.91987998901\n"
     ]
    }
   ],
   "source": [
    "X = np.random.normal(loc=5, scale=2., size=1000)\n",
    "m = np.mean(X)\n",
    "d = np.mean((X - m) ** 2)\n",
    "print(m, d)"
   ]
  },
  {
   "cell_type": "markdown",
   "metadata": {},
   "source": [
    "**10.** Создать матрицу:\n",
    "\n",
    "$$\n",
    "\\begin{pmatrix}\n",
    "0 & 1 & 2 & 3 & 4 \\\\\n",
    "1 & 2 & 3 & 4 & 0 \\\\\n",
    "2 & 3 & 4 & 0 & 1 \\\\\n",
    "3 & 4 & 0 & 1 & 2 \\\\\n",
    "4 & 0 & 1 & 2 & 3\n",
    "\\end{pmatrix}\n",
    "$$"
   ]
  },
  {
   "cell_type": "code",
   "execution_count": 11,
   "metadata": {},
   "outputs": [
    {
     "data": {
      "text/plain": [
       "array([[ 0.,  1.,  2.,  3.,  4.],\n",
       "       [ 1.,  2.,  3.,  4.,  0.],\n",
       "       [ 2.,  3.,  4.,  0.,  1.],\n",
       "       [ 3.,  4.,  0.,  1.,  2.],\n",
       "       [ 4.,  0.,  1.,  2.,  3.]])"
      ]
     },
     "execution_count": 11,
     "metadata": {},
     "output_type": "execute_result"
    }
   ],
   "source": [
    "np.fromfunction(lambda i, j: (i + j) % 5, (5, 5))\n"
   ]
  }
 ],
 "metadata": {
  "kernelspec": {
   "display_name": "Python 3",
   "language": "python",
   "name": "python3"
  },
  "language_info": {
   "codemirror_mode": {
    "name": "ipython",
    "version": 3
   },
   "file_extension": ".py",
   "mimetype": "text/x-python",
   "name": "python",
   "nbconvert_exporter": "python",
   "pygments_lexer": "ipython3",
   "version": "3.6.4"
  }
 },
 "nbformat": 4,
 "nbformat_minor": 2
}

{
 "cells": [
  {
   "cell_type": "code",
   "execution_count": 1,
   "metadata": {},
   "outputs": [],
   "source": [
    "import numpy as np\n",
    "import scipy as sp\n",
    "import matplotlib.pyplot as plt\n",
    "import seaborn as sns\n",
    "\n",
    "%matplotlib inline"
   ]
  },
  {
   "cell_type": "markdown",
   "metadata": {},
   "source": [
    "# 1. Работа с массивами NumPy"
   ]
  },
  {
   "cell_type": "markdown",
   "metadata": {},
   "source": [
    "**N. Все упражнения ниже нужно делать без использования циклов Python**\n",
    "\n",
    "**1.** Cоздать вектор\n",
    "\n",
    "$$(2, \\frac{2^2}{2}, \\ldots, \\frac{2^{20}}{20})$$\n",
    "\n",
    "Можно использовать функции [np.arange()](http://docs.scipy.org/doc/numpy/reference/generated/numpy.arange.html), [np.ones()](http://docs.scipy.org/doc/numpy/reference/generated/numpy.ones.html)"
   ]
  },
  {
   "cell_type": "code",
   "execution_count": 2,
   "metadata": {},
   "outputs": [
    {
     "name": "stdout",
     "output_type": "stream",
     "text": [
      "[2.00000000e+00 2.00000000e+00 2.66666667e+00 4.00000000e+00\n",
      " 6.40000000e+00 1.06666667e+01 1.82857143e+01 3.20000000e+01\n",
      " 5.68888889e+01 1.02400000e+02 1.86181818e+02 3.41333333e+02\n",
      " 6.30153846e+02 1.17028571e+03 2.18453333e+03 4.09600000e+03\n",
      " 7.71011765e+03 1.45635556e+04 2.75941053e+04 5.24288000e+04]\n"
     ]
    }
   ],
   "source": [
    "vec = (2 * np.ones(20)) ** np.arange(1, 21) / np.arange(1, 21)\n",
    "print(vec)"
   ]
  },
  {
   "cell_type": "markdown",
   "metadata": {},
   "source": [
    "**2.** Посчитать:\n",
    "\n",
    "$$\\sum\\limits_{i=0}^{5}{0.1^{3i}0.2^{4i}}$$\n"
   ]
  },
  {
   "cell_type": "code",
   "execution_count": 3,
   "metadata": {},
   "outputs": [
    {
     "data": {
      "text/plain": [
       "1.00000160000256"
      ]
     },
     "execution_count": 3,
     "metadata": {},
     "output_type": "execute_result"
    }
   ],
   "source": [
    "np.sum(0.1 ** (3 * np.arange(6)) * 0.2 ** (4 * np.arange(6)))"
   ]
  },
  {
   "cell_type": "markdown",
   "metadata": {},
   "source": [
    "**3.** Создать нулевую матрицe $8 \\times 8$, и заполнить её единицами в шахматном порядке."
   ]
  },
  {
   "cell_type": "code",
   "execution_count": 4,
   "metadata": {},
   "outputs": [
    {
     "name": "stdout",
     "output_type": "stream",
     "text": [
      "[[0. 1. 0. 1. 0. 1. 0. 1.]\n",
      " [1. 0. 1. 0. 1. 0. 1. 0.]\n",
      " [0. 1. 0. 1. 0. 1. 0. 1.]\n",
      " [1. 0. 1. 0. 1. 0. 1. 0.]\n",
      " [0. 1. 0. 1. 0. 1. 0. 1.]\n",
      " [1. 0. 1. 0. 1. 0. 1. 0.]\n",
      " [0. 1. 0. 1. 0. 1. 0. 1.]\n",
      " [1. 0. 1. 0. 1. 0. 1. 0.]]\n"
     ]
    }
   ],
   "source": [
    "mat = np.zeros((8, 8))\n",
    "mat[1::2, ::2] = 1\n",
    "mat[::2, 1::2] = 1\n",
    "print(mat)"
   ]
  },
  {
   "cell_type": "markdown",
   "metadata": {},
   "source": [
    "**4.** Есть 5 точек в декартовой системе координат (в виде матрицы $X$ размерностью $5 \\times 2$), сконвертируйте эти точки в полярную систему координат."
   ]
  },
  {
   "cell_type": "code",
   "execution_count": 5,
   "metadata": {},
   "outputs": [
    {
     "name": "stdout",
     "output_type": "stream",
     "text": [
      "[0.88133486 0.87293366 0.49887663 0.80108617 1.07806494] [1.25089201 0.50197509 0.88028134 1.33492052 0.47737782]\n"
     ]
    }
   ],
   "source": [
    "X = np.random.random((5, 2))\n",
    "x, y = X[:, 0], X[:, 1]\n",
    "r = np.sqrt(x ** 2 + y ** 2)\n",
    "phi = np.arctan2(y, x)\n",
    "print(r, phi)"
   ]
  },
  {
   "cell_type": "markdown",
   "metadata": {},
   "source": [
    "**5.** Найдите индексы максимального элемента в случайной матрице $10 \\times 10$.\n",
    "\n",
    "Cм. [np.argmax()](http://docs.scipy.org/doc/numpy/reference/generated/numpy.argmax.html)."
   ]
  },
  {
   "cell_type": "code",
   "execution_count": 6,
   "metadata": {},
   "outputs": [
    {
     "data": {
      "text/plain": [
       "(0, 5)"
      ]
     },
     "execution_count": 6,
     "metadata": {},
     "output_type": "execute_result"
    }
   ],
   "source": [
    "X = np.random.random((10, 10))\n",
    "ind = np.unravel_index(np.argmax(X, axis=None), X.shape)\n",
    "ind"
   ]
  },
  {
   "cell_type": "markdown",
   "metadata": {},
   "source": [
    "**6.** Есть 10 точек ($X$) и ещё одна ($y$). Найти в $X$ ближайшую к $y$ точку."
   ]
  },
  {
   "cell_type": "code",
   "execution_count": 7,
   "metadata": {},
   "outputs": [
    {
     "data": {
      "text/plain": [
       "0.021534950620478808"
      ]
     },
     "execution_count": 7,
     "metadata": {},
     "output_type": "execute_result"
    }
   ],
   "source": [
    "X = np.random.random((10, 2))\n",
    "y = np.random.random((1, 2))\n",
    "x1, x2 = X[:, 0], X[:, 1]\n",
    "y1, y2 = y[:, 0][0], y[:, 1][0]\n",
    "np.amin(np.sqrt((x1 - y1) ** 2 + (x2 - y2) ** 2))"
   ]
  },
  {
   "cell_type": "markdown",
   "metadata": {},
   "source": [
    "**7.** Дана функция:\n",
    "\n",
    "$$\n",
    " \\begin{cases}\n",
    "    x^2 + 2x + 6, & x < 0  \\\\\n",
    "    x + 6, & 0 \\le x \\le 2 \\\\\n",
    "    x^2 + 4x - 4, & x \\ge 2\n",
    " \\end{cases}\n",
    "$$\n",
    "\n",
    "Постройте массив из её значений на  $-3 \\le x \\le 3$."
   ]
  },
  {
   "cell_type": "code",
   "execution_count": 8,
   "metadata": {},
   "outputs": [
    {
     "data": {
      "text/plain": [
       "array([ 9.        ,  8.52519783,  8.08038317,  7.66555602,  7.28071637,\n",
       "        6.92586422,  6.60099958,  6.30612245,  6.04123282,  5.8063307 ,\n",
       "        5.60141608,  5.42648896,  5.28154935,  5.16659725,  5.08163265,\n",
       "        5.02665556,  5.00166597,  5.00666389,  5.04164931,  5.10662224,\n",
       "        5.20158267,  5.32653061,  5.48146606,  5.666389  ,  5.88129946,\n",
       "        6.06122449,  6.18367347,  6.30612245,  6.42857143,  6.55102041,\n",
       "        6.67346939,  6.79591837,  6.91836735,  7.04081633,  7.16326531,\n",
       "        7.28571429,  7.40816327,  7.53061224,  7.65306122,  7.7755102 ,\n",
       "        7.89795918,  8.1636818 ,  9.16326531, 10.19283632, 11.25239484,\n",
       "       12.34194086, 13.46147439, 14.61099542, 15.79050396, 17.        ])"
      ]
     },
     "execution_count": 8,
     "metadata": {},
     "output_type": "execute_result"
    }
   ],
   "source": [
    "def f(x):\n",
    "    if x < 0:\n",
    "        return x ** 2 + 2 * x + 6\n",
    "    elif 0 <= x <= 2:\n",
    "        return x + 6\n",
    "    elif x >= 2:\n",
    "        return x ** 2 + 4 * x - 4\n",
    "\n",
    "vec_f = np.vectorize(f)\n",
    "vec_f(np.linspace(-3, 3))"
   ]
  },
  {
   "cell_type": "markdown",
   "metadata": {},
   "source": [
    "**8.** Из каждого элемента матрицы вычесть среднее арифметическое от всех элементов в соответствующей строке (после чего среднее значение каждой строки должно равняться нулю).\n",
    "\n",
    "Cм. [np.mean()](http://docs.scipy.org/doc/numpy/reference/generated/numpy.mean.html)."
   ]
  },
  {
   "cell_type": "code",
   "execution_count": 9,
   "metadata": {},
   "outputs": [
    {
     "data": {
      "text/plain": [
       "array([[ 0.28227138, -0.44104511,  0.28637018,  0.29233255,  0.3101381 ,\n",
       "        -0.5059222 ,  0.32053674, -0.53955537, -0.31346381,  0.30833755],\n",
       "       [ 0.270969  ,  0.13753668, -0.54629341,  0.11525221,  0.23325456,\n",
       "         0.09725393, -0.26660115,  0.13278154, -0.24810964,  0.07395628],\n",
       "       [-0.08864026, -0.46959629,  0.39014527, -0.12242612, -0.08595555,\n",
       "        -0.14013373,  0.03822807,  0.3406309 , -0.01890752,  0.15665523],\n",
       "       [ 0.00816845, -0.00870441,  0.16802015,  0.11781399, -0.31134855,\n",
       "        -0.38797618,  0.1114009 ,  0.24947426, -0.38049293,  0.43364431],\n",
       "       [-0.42180111, -0.12340768,  0.45847255, -0.14349745,  0.02050777,\n",
       "         0.34390524, -0.2217161 ,  0.49664051, -0.11907419, -0.29002955],\n",
       "       [-0.06362131,  0.32593733,  0.31471822, -0.06779348, -0.64237705,\n",
       "        -0.34699224, -0.06467411,  0.19262091,  0.17039471,  0.18178703],\n",
       "       [ 0.43062855, -0.00098286, -0.38357381,  0.41018911, -0.12625123,\n",
       "        -0.07251907,  0.15447371, -0.19457024, -0.14121641, -0.07617775],\n",
       "       [ 0.07003929, -0.15768649, -0.4263036 ,  0.23617479, -0.11968258,\n",
       "         0.2706329 , -0.35393803,  0.31522047, -0.02668522,  0.19222848],\n",
       "       [-0.30170109,  0.31772591, -0.01591489, -0.03172919,  0.09842626,\n",
       "        -0.41638749,  0.24437758, -0.080709  ,  0.43318759, -0.24727569],\n",
       "       [ 0.23712224, -0.38080951, -0.20597061, -0.26921264, -0.19799643,\n",
       "        -0.16129378,  0.0315578 ,  0.38042177, -0.00739568,  0.57357684]])"
      ]
     },
     "execution_count": 9,
     "metadata": {},
     "output_type": "execute_result"
    }
   ],
   "source": [
    "X = np.random.random((10, 10))\n",
    "X - np.mean(X, axis=1, keepdims=True)"
   ]
  },
  {
   "cell_type": "markdown",
   "metadata": {},
   "source": [
    "**9.** Есть массив из 1000 чисел, полученных из генератора случайных чисел, имеющий нормальное распределение. Посчитайте выборочное среднее и выборочную дисперсию. "
   ]
  },
  {
   "cell_type": "code",
   "execution_count": 10,
   "metadata": {},
   "outputs": [
    {
     "name": "stdout",
     "output_type": "stream",
     "text": [
      "5.073118128297535 3.9225027767359357\n"
     ]
    }
   ],
   "source": [
    "X = np.random.normal(loc=5, scale=2., size=1000)\n",
    "m = np.mean(X)\n",
    "d = np.mean((X - m) ** 2)\n",
    "print(m, d)"
   ]
  },
  {
   "cell_type": "markdown",
   "metadata": {},
   "source": [
    "**10.** Создать матрицу:\n",
    "\n",
    "$$\n",
    "\\begin{pmatrix}\n",
    "0 & 1 & 2 & 3 & 4 \\\\\n",
    "1 & 2 & 3 & 4 & 0 \\\\\n",
    "2 & 3 & 4 & 0 & 1 \\\\\n",
    "3 & 4 & 0 & 1 & 2 \\\\\n",
    "4 & 0 & 1 & 2 & 3\n",
    "\\end{pmatrix}\n",
    "$$"
   ]
  },
  {
   "cell_type": "code",
   "execution_count": 11,
   "metadata": {},
   "outputs": [
    {
     "data": {
      "text/plain": [
       "array([[0., 1., 2., 3., 4.],\n",
       "       [1., 2., 3., 4., 0.],\n",
       "       [2., 3., 4., 0., 1.],\n",
       "       [3., 4., 0., 1., 2.],\n",
       "       [4., 0., 1., 2., 3.]])"
      ]
     },
     "execution_count": 11,
     "metadata": {},
     "output_type": "execute_result"
    }
   ],
   "source": [
    "np.fromfunction(lambda i, j: (i + j) % 5, (5, 5))"
   ]
  }
 ],
 "metadata": {
  "kernelspec": {
   "display_name": "Python 3",
   "language": "python",
   "name": "python3"
  },
  "language_info": {
   "codemirror_mode": {
    "name": "ipython",
    "version": 3
   },
   "file_extension": ".py",
   "mimetype": "text/x-python",
   "name": "python",
   "nbconvert_exporter": "python",
   "pygments_lexer": "ipython3",
   "version": "3.6.5"
  }
 },
 "nbformat": 4,
 "nbformat_minor": 2
}

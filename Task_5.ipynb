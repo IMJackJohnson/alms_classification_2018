{
 "cells": [
  {
   "cell_type": "markdown",
   "metadata": {},
   "source": [
    "# Линейная регрессия"
   ]
  },
  {
   "cell_type": "markdown",
   "metadata": {},
   "source": [
    "Данные содержатся в файле `data/lin_reg.txt`. Прочитать их можно следующим так:"
   ]
  },
  {
   "cell_type": "markdown",
   "metadata": {},
   "source": [
    "При выполнении заданий **нельзя** пользоваться `scikit-learn` и т.п., только `numpy` и `matplotlib`.\n",
    "\n",
    "1. Нарисуйте график среднеквадратичной ошибки в зависимости от параметра регуляризации $\\alpha$, используя полные данные для обучения и для тестирования. \n",
    "2. Подготовьте исходные данные для 5 fold CV.\n",
    "3. С помощью CV найдите оптимальное значение $\\alpha$ на какой-нибудь сетке значений.\n",
    "4. Постройте валидационную кривую. \n",
    "5. Постройте кривую обучения."
   ]
  },
  {
   "cell_type": "code",
   "execution_count": 1,
   "metadata": {},
   "outputs": [],
   "source": [
    "import numpy as np\n",
    "import matplotlib.pyplot as plt"
   ]
  },
  {
   "cell_type": "code",
   "execution_count": 2,
   "metadata": {},
   "outputs": [],
   "source": [
    "D = np.loadtxt('data/lin_reg.txt', delimiter=',')\n",
    "X = D[:, :-1]\n",
    "Y = D[:, -1]"
   ]
  },
  {
   "cell_type": "code",
   "execution_count": 3,
   "metadata": {},
   "outputs": [],
   "source": [
    "X = np.hstack((np.ones((X.shape[0],1)), X))"
   ]
  },
  {
   "cell_type": "code",
   "execution_count": 4,
   "metadata": {},
   "outputs": [],
   "source": [
    "def model(x, y, alpha=0.0):\n",
    "    n_col = x.shape[1]\n",
    "    return np.linalg.inv(x.T @ x + alpha * np.identity(n_col)) @ x.T @ y"
   ]
  },
  {
   "cell_type": "code",
   "execution_count": 5,
   "metadata": {},
   "outputs": [],
   "source": [
    "def mse(pred, y):\n",
    "    return np.sum(np.square(pred - y)) / len(y)"
   ]
  },
  {
   "cell_type": "code",
   "execution_count": 6,
   "metadata": {},
   "outputs": [
    {
     "data": {
      "image/png": "[encoded data removed]",
      "text/plain": [
       "<Figure size 432x288 with 1 Axes>"
      ]
     },
     "metadata": {},
     "output_type": "display_data"
    }
   ],
   "source": [
    "plt.xlabel(\"alpha\")\n",
    "plt.ylabel(\"MSE\")\n",
    "\n",
    "alphas = np.linspace(0, 10, num=1000)\n",
    "for alpha in alphas:\n",
    "    theta = model(X, Y, alpha)\n",
    "    pred = theta @ X.T\n",
    "    loss = mse(pred, Y)\n",
    "    plt.plot(alpha, loss, 'ro')"
   ]
  },
  {
   "cell_type": "code",
   "execution_count": 7,
   "metadata": {},
   "outputs": [],
   "source": [
    "def cross_validation(X, Y, n=5):\n",
    "    step = int(len(X) / n)    \n",
    "    for i in range(n):\n",
    "        test_x = X[i * step:i * step + step]\n",
    "        test_y = Y[i * step:i * step + step]\n",
    "        \n",
    "        left_x = X[:i * step]\n",
    "        left_y = Y[:i * step]\n",
    "        right_x = X[i * step + step:]\n",
    "        right_y = Y[i * step + step:]\n",
    "        \n",
    "        train_x = np.concatenate((left_x, right_x))\n",
    "        train_y = np.concatenate((left_y, right_y))\n",
    "        yield (train_x, train_y), (test_x, test_y)"
   ]
  },
  {
   "cell_type": "code",
   "execution_count": 8,
   "metadata": {},
   "outputs": [],
   "source": [
    "def mean_losses(alpha, validations=5):\n",
    "    total_loss_train = 0\n",
    "    total_loss_test = 0\n",
    "    for (train_x, train_y), (test_x, test_y) in cross_validation(X, Y, n=validations):\n",
    "        theta = model(train_x, train_y, alpha)\n",
    "        pred_train = theta @ train_x.T\n",
    "        pred_test = theta @ test_x.T\n",
    "        total_loss_train += mse(pred_train, train_y)\n",
    "        total_loss_test += mse(pred_test, test_y)\n",
    "\n",
    "    mean_loss_train = total_loss_train / validations\n",
    "    mean_loss_test = total_loss_test / validations\n",
    "    \n",
    "    return mean_loss_train, mean_loss_test"
   ]
  },
  {
   "cell_type": "code",
   "execution_count": 9,
   "metadata": {},
   "outputs": [],
   "source": [
    "def optimal_alpha(min_alpha, max_alpha, n_alpha=1000, validations=5):\n",
    "    MAX = 9999999\n",
    "    result = 0\n",
    "    \n",
    "    alphas = np.linspace(min_alpha, max_alpha, num=n_alpha)\n",
    "    for alpha in alphas:\n",
    "        mean_loss_train, mean_loss_test = mean_losses(alpha, validations)\n",
    "        difference = abs(mean_loss_train - mean_loss_test)\n",
    "        if difference < MAX:\n",
    "            MAX = difference\n",
    "            result = alpha\n",
    "    \n",
    "    return result"
   ]
  },
  {
   "cell_type": "code",
   "execution_count": 10,
   "metadata": {},
   "outputs": [
    {
     "data": {
      "text/plain": [
       "1852.1234748983265"
      ]
     },
     "execution_count": 10,
     "metadata": {},
     "output_type": "execute_result"
    }
   ],
   "source": [
    "optimal_alpha(0, 10000, 15000)"
   ]
  },
  {
   "cell_type": "code",
   "execution_count": 11,
   "metadata": {},
   "outputs": [
    {
     "data": {
      "image/png": "[encoded data removed]",
      "text/plain": [
       "<Figure size 432x288 with 1 Axes>"
      ]
     },
     "metadata": {},
     "output_type": "display_data"
    }
   ],
   "source": [
    "plt.title(\"validation curve\")\n",
    "plt.xlabel(\"alpha\")\n",
    "plt.ylabel(\"MSE\")\n",
    "\n",
    "alphas = np.linspace(0, 10000, num=1000)\n",
    "for alpha in alphas:\n",
    "    _, mean_loss_test = mean_losses(alpha)\n",
    "    plt.plot(alpha, mean_loss_test, 'bo')"
   ]
  },
  {
   "cell_type": "code",
   "execution_count": 12,
   "metadata": {},
   "outputs": [
    {
     "data": {
      "image/png": "[encoded data removed]",
      "text/plain": [
       "<Figure size 432x288 with 1 Axes>"
      ]
     },
     "metadata": {},
     "output_type": "display_data"
    }
   ],
   "source": [
    "plt.title(\"training curve\")\n",
    "plt.xlabel(\"alpha\")\n",
    "plt.ylabel(\"MSE\")\n",
    "\n",
    "alphas = np.linspace(0, 10000, num=1000)\n",
    "for alpha in alphas:\n",
    "    mean_loss_train, _ = mean_losses(alpha)\n",
    "    plt.plot(alpha, mean_loss_train, 'go')"
   ]
  }
 ],
 "metadata": {
  "kernelspec": {
   "display_name": "Python 3",
   "language": "python",
   "name": "python3"
  },
  "language_info": {
   "codemirror_mode": {
    "name": "ipython",
    "version": 3
   },
   "file_extension": ".py",
   "mimetype": "text/x-python",
   "name": "python",
   "nbconvert_exporter": "python",
   "pygments_lexer": "ipython3",
   "version": "3.6.5"
  }
 },
 "nbformat": 4,
 "nbformat_minor": 2
}
